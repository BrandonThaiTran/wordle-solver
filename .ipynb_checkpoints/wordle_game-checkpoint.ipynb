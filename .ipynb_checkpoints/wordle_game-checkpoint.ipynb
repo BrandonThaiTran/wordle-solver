{
 "cells": [
  {
   "cell_type": "code",
   "execution_count": 1,
   "id": "3d350c1c-6a52-414a-8ce9-fbb047279e5a",
   "metadata": {},
   "outputs": [],
   "source": [
    "import string\n",
    "import random\n",
    "from IPython.display import clear_output"
   ]
  },
  {
   "cell_type": "code",
   "execution_count": 2,
   "id": "50cd1895-cead-4bd8-9efc-54712b08cff5",
   "metadata": {},
   "outputs": [],
   "source": [
    "\n",
    "# Key: \n",
    "# 0 -> unguessed\n",
    "# 1 -> guessed, but not there\n",
    "# 2 -> yellow (this could map to location)\n",
    "# 3 -> green (this could map to location)"
   ]
  },
  {
   "cell_type": "code",
   "execution_count": 3,
   "id": "0bfe9597-7ddf-4d13-8f0e-eb08febc7bb8",
   "metadata": {},
   "outputs": [],
   "source": [
    "def colored(r, g, b, text):\n",
    "    return \"\\033[38;2;{};{};{}m{} \\033[38;2;255;255;255m\".format(r, g, b, text)"
   ]
  },
  {
   "cell_type": "code",
   "execution_count": 4,
   "id": "6617ccec-5bed-47de-8fe3-345db314fb23",
   "metadata": {},
   "outputs": [],
   "source": [
    "class Wordle_Board:\n",
    "    \n",
    "    def __init__(self, word_file = None, spacing = 2):\n",
    "        with open(word_file) as f:\n",
    "            self.words = f.read().splitlines()\n",
    "        self.ans = random.choice(self.words)\n",
    "        self.ans = \"flirt\"\n",
    "        # print(\"The answer is \", self.ans)\n",
    "        \n",
    "        self.spacing = spacing\n",
    "        self.word_length = 5\n",
    "        self.guesses_left = 6\n",
    "        self.guesses = []\n",
    "        self.formatted_guesses = []\n",
    "        self.qwerty = ['qwertyuiop', 'asdfghjkl', 'zxcvbnm']\n",
    "        \n",
    "        letters = string.ascii_lowercase\n",
    "        self.letter_state = dict(zip(letters, [0]*len(letters)))\n",
    "        self.letter_state_color_map = {0: [128, 131, 132], # gray\n",
    "                                       1: [0, 0, 0], # black\n",
    "                                       2: [181, 159, 59], # yellow\n",
    "                                       3: [83, 141, 78], # green\n",
    "                                      }\n",
    "        \n",
    "        self.color_maps = []\n",
    "        self.done = False\n",
    "        \n",
    "    def display_board(self):\n",
    "        empty_line = self.get_empty_line()\n",
    "        for formatted_guess in self.formatted_guesses:\n",
    "            print(formatted_guess)\n",
    "        for i in range(self.guesses_left):\n",
    "            print(f\"{empty_line}\\n\\n\")\n",
    "        for row in self.formatted_qwerty:\n",
    "            print(row)\n",
    "        if self.done:\n",
    "            print(colored(*self.letter_state_color_map[3],\"YOU WIN!!!\"))\n",
    "    \n",
    "    def get_formatted_guess(self, guess, color_map):\n",
    "        colorstr = \"\"\n",
    "        for i in range(self.word_length):\n",
    "            # colorstr += (\"<span style='color:{}'>{}</span>\".format(color_map[i], guess[i])) + (\" \" * self.spacing)\n",
    "            color = self.letter_state_color_map[color_map[i]]\n",
    "            colorstr += colored(*color,guess[i]) + (\" \" * self.spacing)\n",
    "        return colorstr \n",
    "        \n",
    "    def get_empty_line(self):\n",
    "        underscores = self.word_length * \"_\"\n",
    "        empty_line = colored(*self.letter_state_color_map[1],(\" \" * self.spacing).join(underscores))\n",
    "        return empty_line\n",
    "    \n",
    "    def get_formatted_qwerty(self):\n",
    "        formatted_qwerty = []\n",
    "        \n",
    "        for row in self.qwerty:\n",
    "            colorstr = \"\"\n",
    "            for char in row:\n",
    "                color = self.letter_state_color_map[self.letter_state[char]]\n",
    "                colorstr += colored(*color, char) + (\" \" * self.spacing)\n",
    "            formatted_qwerty.append(colorstr)\n",
    "        \n",
    "        return formatted_qwerty\n",
    "    \n",
    "    def guess_word(self, guess):\n",
    "        if guess not in self.words:\n",
    "            print(\"Invalid word! Try again\")\n",
    "            return \n",
    "        self.guesses_left -= 1\n",
    "        self.guesses.append(guess)\n",
    "        self.words.remove(guess)\n",
    "        color_map = []\n",
    "        \n",
    "        for i in range(self.word_length):\n",
    "            # If in correct location\n",
    "            if guess[i] == self.ans[i]:\n",
    "                self.letter_state[guess[i]] = 3\n",
    "                color_map.append(3)\n",
    "                # print(\"green: \", guess[i])\n",
    "            # If in the word, but not the correct location\n",
    "            elif guess[i] in self.ans:\n",
    "                self.letter_state[guess[i]] = 2\n",
    "                color_map.append(2)\n",
    "                # print(\"yellow: \", guess[i])\n",
    "            # If not in the word\n",
    "            if guess[i] not in self.ans:\n",
    "                self.letter_state[guess[i]] = 1\n",
    "                color_map.append(1)\n",
    "                # print(\"black: \", guess[i])\n",
    "                \n",
    "        self.formatted_guesses.append(self.get_formatted_guess(guess,color_map))\n",
    "        self.formatted_qwerty = self.get_formatted_qwerty()        \n",
    "        \n",
    "        self.color_maps.append(color_map)\n",
    "        \n",
    "        clear_output()\n",
    "        if guess == self.ans:\n",
    "            self.done = True\n",
    "        self.display_board()"
   ]
  },
  {
   "cell_type": "code",
   "execution_count": 5,
   "id": "2c5a9863-903d-44cf-944b-36d69443a1d5",
   "metadata": {},
   "outputs": [],
   "source": [
    "wordle = Wordle_Board('wordle-answers-alphabetical.txt')"
   ]
  },
  {
   "cell_type": "code",
   "execution_count": 6,
   "id": "a4488560-809d-4e5b-974a-0c109fefad07",
   "metadata": {},
   "outputs": [
    {
     "name": "stdout",
     "output_type": "stream",
     "text": [
      "\u001b[38;2;83;141;78mf \u001b[38;2;255;255;255m  \u001b[38;2;83;141;78ml \u001b[38;2;255;255;255m  \u001b[38;2;83;141;78mi \u001b[38;2;255;255;255m  \u001b[38;2;83;141;78mr \u001b[38;2;255;255;255m  \u001b[38;2;83;141;78mt \u001b[38;2;255;255;255m  \n",
      "\u001b[38;2;0;0;0m_  _  _  _  _ \u001b[38;2;255;255;255m\n",
      "\n",
      "\n",
      "\u001b[38;2;0;0;0m_  _  _  _  _ \u001b[38;2;255;255;255m\n",
      "\n",
      "\n",
      "\u001b[38;2;0;0;0m_  _  _  _  _ \u001b[38;2;255;255;255m\n",
      "\n",
      "\n",
      "\u001b[38;2;0;0;0m_  _  _  _  _ \u001b[38;2;255;255;255m\n",
      "\n",
      "\n",
      "\u001b[38;2;0;0;0m_  _  _  _  _ \u001b[38;2;255;255;255m\n",
      "\n",
      "\n",
      "\u001b[38;2;128;131;132mq \u001b[38;2;255;255;255m  \u001b[38;2;128;131;132mw \u001b[38;2;255;255;255m  \u001b[38;2;128;131;132me \u001b[38;2;255;255;255m  \u001b[38;2;83;141;78mr \u001b[38;2;255;255;255m  \u001b[38;2;83;141;78mt \u001b[38;2;255;255;255m  \u001b[38;2;128;131;132my \u001b[38;2;255;255;255m  \u001b[38;2;128;131;132mu \u001b[38;2;255;255;255m  \u001b[38;2;83;141;78mi \u001b[38;2;255;255;255m  \u001b[38;2;128;131;132mo \u001b[38;2;255;255;255m  \u001b[38;2;128;131;132mp \u001b[38;2;255;255;255m  \n",
      "\u001b[38;2;128;131;132ma \u001b[38;2;255;255;255m  \u001b[38;2;128;131;132ms \u001b[38;2;255;255;255m  \u001b[38;2;128;131;132md \u001b[38;2;255;255;255m  \u001b[38;2;83;141;78mf \u001b[38;2;255;255;255m  \u001b[38;2;128;131;132mg \u001b[38;2;255;255;255m  \u001b[38;2;128;131;132mh \u001b[38;2;255;255;255m  \u001b[38;2;128;131;132mj \u001b[38;2;255;255;255m  \u001b[38;2;128;131;132mk \u001b[38;2;255;255;255m  \u001b[38;2;83;141;78ml \u001b[38;2;255;255;255m  \n",
      "\u001b[38;2;128;131;132mz \u001b[38;2;255;255;255m  \u001b[38;2;128;131;132mx \u001b[38;2;255;255;255m  \u001b[38;2;128;131;132mc \u001b[38;2;255;255;255m  \u001b[38;2;128;131;132mv \u001b[38;2;255;255;255m  \u001b[38;2;128;131;132mb \u001b[38;2;255;255;255m  \u001b[38;2;128;131;132mn \u001b[38;2;255;255;255m  \u001b[38;2;128;131;132mm \u001b[38;2;255;255;255m  \n"
     ]
    },
    {
     "ename": "TypeError",
     "evalue": "colored() missing 2 required positional arguments: 'b' and 'text'",
     "output_type": "error",
     "traceback": [
      "\u001b[0;31m---------------------------------------------------------------------------\u001b[0m",
      "\u001b[0;31mTypeError\u001b[0m                                 Traceback (most recent call last)",
      "Input \u001b[0;32mIn [6]\u001b[0m, in \u001b[0;36m<module>\u001b[0;34m\u001b[0m\n\u001b[1;32m      1\u001b[0m \u001b[38;5;28;01mwhile\u001b[39;00m \u001b[38;5;28;01mTrue\u001b[39;00m:\n\u001b[1;32m      2\u001b[0m     guess \u001b[38;5;241m=\u001b[39m \u001b[38;5;28mstr\u001b[39m(\u001b[38;5;28minput\u001b[39m())\n\u001b[0;32m----> 3\u001b[0m     \u001b[43mwordle\u001b[49m\u001b[38;5;241;43m.\u001b[39;49m\u001b[43mguess_word\u001b[49m\u001b[43m(\u001b[49m\u001b[43mguess\u001b[49m\u001b[43m)\u001b[49m\n",
      "Input \u001b[0;32mIn [4]\u001b[0m, in \u001b[0;36mWordle_Board.guess_word\u001b[0;34m(self, guess)\u001b[0m\n\u001b[1;32m     96\u001b[0m \u001b[38;5;28;01mif\u001b[39;00m guess \u001b[38;5;241m==\u001b[39m \u001b[38;5;28mself\u001b[39m\u001b[38;5;241m.\u001b[39mans:\n\u001b[1;32m     97\u001b[0m     \u001b[38;5;28mself\u001b[39m\u001b[38;5;241m.\u001b[39mdone \u001b[38;5;241m=\u001b[39m \u001b[38;5;28;01mTrue\u001b[39;00m\n\u001b[0;32m---> 98\u001b[0m \u001b[38;5;28;43mself\u001b[39;49m\u001b[38;5;241;43m.\u001b[39;49m\u001b[43mdisplay_board\u001b[49m\u001b[43m(\u001b[49m\u001b[43m)\u001b[49m\n",
      "Input \u001b[0;32mIn [4]\u001b[0m, in \u001b[0;36mWordle_Board.display_board\u001b[0;34m(self)\u001b[0m\n\u001b[1;32m     35\u001b[0m     \u001b[38;5;28mprint\u001b[39m(row)\n\u001b[1;32m     36\u001b[0m \u001b[38;5;28;01mif\u001b[39;00m \u001b[38;5;28mself\u001b[39m\u001b[38;5;241m.\u001b[39mdone:\n\u001b[0;32m---> 37\u001b[0m     \u001b[38;5;28mprint\u001b[39m(\u001b[38;5;241m*\u001b[39m\u001b[43mcolored\u001b[49m\u001b[43m(\u001b[49m\u001b[38;5;28;43mself\u001b[39;49m\u001b[38;5;241;43m.\u001b[39;49m\u001b[43mletter_state_color_map\u001b[49m\u001b[43m[\u001b[49m\u001b[38;5;241;43m3\u001b[39;49m\u001b[43m]\u001b[49m\u001b[43m,\u001b[49m\u001b[38;5;124;43m\"\u001b[39;49m\u001b[38;5;124;43mYOU WIN!!!\u001b[39;49m\u001b[38;5;124;43m\"\u001b[39;49m\u001b[43m)\u001b[49m)\n",
      "\u001b[0;31mTypeError\u001b[0m: colored() missing 2 required positional arguments: 'b' and 'text'"
     ]
    }
   ],
   "source": [
    "while True:\n",
    "    guess = str(input())\n",
    "    wordle.guess_word(guess)"
   ]
  },
  {
   "cell_type": "code",
   "execution_count": null,
   "id": "574cf9c4-c7a0-4615-b38c-aa077ca244da",
   "metadata": {},
   "outputs": [],
   "source": [
    "wordle.done"
   ]
  },
  {
   "cell_type": "code",
   "execution_count": null,
   "id": "db956bd6-9819-4191-9e22-bfe5cae8c780",
   "metadata": {},
   "outputs": [],
   "source": []
  }
 ],
 "metadata": {
  "kernelspec": {
   "display_name": "Python 3 (ipykernel)",
   "language": "python",
   "name": "python3"
  },
  "language_info": {
   "codemirror_mode": {
    "name": "ipython",
    "version": 3
   },
   "file_extension": ".py",
   "mimetype": "text/x-python",
   "name": "python",
   "nbconvert_exporter": "python",
   "pygments_lexer": "ipython3",
   "version": "3.8.12"
  }
 },
 "nbformat": 4,
 "nbformat_minor": 5
}
